{
 "cells": [
  {
   "cell_type": "code",
   "execution_count": 17,
   "id": "28c559b2",
   "metadata": {},
   "outputs": [
    {
     "name": "stdout",
     "output_type": "stream",
     "text": [
      "Collecting psutil"
     ]
    },
    {
     "name": "stderr",
     "output_type": "stream",
     "text": [
      "WARNING: You are using pip version 21.0.1; however, version 21.1.3 is available.\n",
      "You should consider upgrading via the 'd:\\usuarios\\wilmagju\\appdata\\local\\programs\\python\\python38\\python.exe -m pip install --upgrade pip' command.\n"
     ]
    },
    {
     "name": "stdout",
     "output_type": "stream",
     "text": [
      "\n",
      "  Using cached psutil-5.8.0-cp38-cp38-win_amd64.whl (245 kB)\n",
      "Installing collected packages: psutil\n",
      "Successfully installed psutil-5.8.0\n"
     ]
    }
   ],
   "source": [
    "!pip install psutil"
   ]
  },
  {
   "cell_type": "code",
   "execution_count": 1,
   "id": "9161abeb",
   "metadata": {},
   "outputs": [],
   "source": [
    "import pickle\n",
    "a_file = open(\"dictio.pkl\", \"rb\")\n",
    "dictio = pickle.load(a_file)\n"
   ]
  },
  {
   "cell_type": "code",
   "execution_count": 2,
   "id": "c7a0c8dd",
   "metadata": {},
   "outputs": [
    {
     "data": {
      "text/plain": [
       "[202101, 202102, 202103, 202104, 202105]"
      ]
     },
     "execution_count": 2,
     "metadata": {},
     "output_type": "execute_result"
    }
   ],
   "source": [
    "dictio['Meses']"
   ]
  },
  {
   "cell_type": "code",
   "execution_count": 4,
   "id": "c70ac744",
   "metadata": {},
   "outputs": [],
   "source": [
    "Meses = ['enero','febrero','marzo','abril','mayo']\n"
   ]
  },
  {
   "cell_type": "code",
   "execution_count": 8,
   "id": "7ec5da22",
   "metadata": {
    "scrolled": true
   },
   "outputs": [],
   "source": [
    "import plotly.graph_objects as go\n",
    "\n",
    "\n",
    "fig = go.Figure(data=go.Scatter(x=Meses, y=dictio['Sedes']['IPS SURA ALMACENTRO']['Codigos']['CONSULTA MEDICO GENERAL']['Oportunidad']))\n",
    "fig.write_image(\"oportunidad1.png\")"
   ]
  },
  {
   "cell_type": "code",
   "execution_count": 6,
   "id": "450a22c3",
   "metadata": {},
   "outputs": [],
   "source": []
  }
 ],
 "metadata": {
  "kernelspec": {
   "display_name": "Python 3",
   "language": "python",
   "name": "python3"
  },
  "language_info": {
   "codemirror_mode": {
    "name": "ipython",
    "version": 3
   },
   "file_extension": ".py",
   "mimetype": "text/x-python",
   "name": "python",
   "nbconvert_exporter": "python",
   "pygments_lexer": "ipython3",
   "version": "3.8.2"
  }
 },
 "nbformat": 4,
 "nbformat_minor": 5
}
